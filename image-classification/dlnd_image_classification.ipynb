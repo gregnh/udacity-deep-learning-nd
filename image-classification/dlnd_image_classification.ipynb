{
 "cells": [
  {
   "cell_type": "markdown",
   "metadata": {
    "collapsed": true
   },
   "source": [
    "# Image Classification\n",
    "In this project, you'll classify images from the [CIFAR-10 dataset](https://www.cs.toronto.edu/~kriz/cifar.html).  The dataset consists of airplanes, dogs, cats, and other objects. You'll preprocess the images, then train a convolutional neural network on all the samples. The images need to be normalized and the labels need to be one-hot encoded.  You'll get to apply what you learned and build a convolutional, max pooling, dropout, and fully connected layers.  At the end, you'll get to see your neural network's predictions on the sample images.\n",
    "## Get the Data\n",
    "Run the following cell to download the [CIFAR-10 dataset for python](https://www.cs.toronto.edu/~kriz/cifar-10-python.tar.gz)."
   ]
  },
  {
   "cell_type": "code",
   "execution_count": 1,
   "metadata": {},
   "outputs": [
    {
     "name": "stdout",
     "output_type": "stream",
     "text": [
      "All files found!\n"
     ]
    }
   ],
   "source": [
    "\"\"\"\n",
    "DON'T MODIFY ANYTHING IN THIS CELL THAT IS BELOW THIS LINE\n",
    "\"\"\"\n",
    "from urllib.request import urlretrieve\n",
    "from os.path import isfile, isdir\n",
    "from tqdm import tqdm\n",
    "import problem_unittests as tests\n",
    "import tarfile\n",
    "\n",
    "cifar10_dataset_folder_path = 'cifar-10-batches-py'\n",
    "\n",
    "# Use Floyd's cifar-10 dataset if present\n",
    "floyd_cifar10_location = '/input/cifar-10/python.tar.gz'\n",
    "if isfile(floyd_cifar10_location):\n",
    "    tar_gz_path = floyd_cifar10_location\n",
    "else:\n",
    "    tar_gz_path = 'cifar-10-python.tar.gz'\n",
    "\n",
    "class DLProgress(tqdm):\n",
    "    last_block = 0\n",
    "\n",
    "    def hook(self, block_num=1, block_size=1, total_size=None):\n",
    "        self.total = total_size\n",
    "        self.update((block_num - self.last_block) * block_size)\n",
    "        self.last_block = block_num\n",
    "\n",
    "if not isfile(tar_gz_path):\n",
    "    with DLProgress(unit='B', unit_scale=True, miniters=1, desc='CIFAR-10 Dataset') as pbar:\n",
    "        urlretrieve(\n",
    "            'https://www.cs.toronto.edu/~kriz/cifar-10-python.tar.gz',\n",
    "            tar_gz_path,\n",
    "            pbar.hook)\n",
    "\n",
    "if not isdir(cifar10_dataset_folder_path):\n",
    "    with tarfile.open(tar_gz_path) as tar:\n",
    "        tar.extractall()\n",
    "        tar.close()\n",
    "\n",
    "\n",
    "tests.test_folder_path(cifar10_dataset_folder_path)"
   ]
  },
  {
   "cell_type": "markdown",
   "metadata": {},
   "source": [
    "## Explore the Data\n",
    "The dataset is broken into batches to prevent your machine from running out of memory.  The CIFAR-10 dataset consists of 5 batches, named `data_batch_1`, `data_batch_2`, etc.. Each batch contains the labels and images that are one of the following:\n",
    "* airplane\n",
    "* automobile\n",
    "* bird\n",
    "* cat\n",
    "* deer\n",
    "* dog\n",
    "* frog\n",
    "* horse\n",
    "* ship\n",
    "* truck\n",
    "\n",
    "Understanding a dataset is part of making predictions on the data.  Play around with the code cell below by changing the `batch_id` and `sample_id`. The `batch_id` is the id for a batch (1-5). The `sample_id` is the id for a image and label pair in the batch.\n",
    "\n",
    "Ask yourself \"What are all possible labels?\", \"What is the range of values for the image data?\", \"Are the labels in order or random?\".  Answers to questions like these will help you preprocess the data and end up with better predictions."
   ]
  },
  {
   "cell_type": "code",
   "execution_count": 2,
   "metadata": {},
   "outputs": [
    {
     "name": "stdout",
     "output_type": "stream",
     "text": [
      "\n",
      "Stats of batch 1:\n",
      "Samples: 10000\n",
      "Label Counts: {0: 1005, 1: 974, 2: 1032, 3: 1016, 4: 999, 5: 937, 6: 1030, 7: 1001, 8: 1025, 9: 981}\n",
      "First 20 Labels: [6, 9, 9, 4, 1, 1, 2, 7, 8, 3, 4, 7, 7, 2, 9, 9, 9, 3, 2, 6]\n",
      "\n",
      "Example of Image 105:\n",
      "Image - Min Value: 0 Max Value: 255\n",
      "Image - Shape: (32, 32, 3)\n",
      "Label - Label Id: 1 Name: automobile\n"
     ]
    },
    {
     "data": {
      "image/png": "[encoded data removed]",
      "text/plain": [
       "<matplotlib.figure.Figure at 0x7f5fdea3d080>"
      ]
     },
     "metadata": {
      "image/png": {
       "height": 250,
       "width": 253
      }
     },
     "output_type": "display_data"
    }
   ],
   "source": [
    "%matplotlib inline\n",
    "%config InlineBackend.figure_format = 'retina'\n",
    "\n",
    "import helper\n",
    "import numpy as np\n",
    "\n",
    "# Explore the dataset\n",
    "batch_id = 1\n",
    "sample_id = 105\n",
    "helper.display_stats(cifar10_dataset_folder_path, batch_id, sample_id)"
   ]
  },
  {
   "cell_type": "markdown",
   "metadata": {},
   "source": [
    "## Implement Preprocess Functions\n",
    "### Normalize\n",
    "In the cell below, implement the `normalize` function to take in image data, `x`, and return it as a normalized Numpy array. The values should be in the range of 0 to 1, inclusive.  The return object should be the same shape as `x`."
   ]
  },
  {
   "cell_type": "code",
   "execution_count": 3,
   "metadata": {},
   "outputs": [
    {
     "name": "stdout",
     "output_type": "stream",
     "text": [
      "Tests Passed\n"
     ]
    }
   ],
   "source": [
    "def normalize(x):\n",
    "    \"\"\"\n",
    "    Normalize a list of sample image data in the range of 0 to 1\n",
    "    : x: List of image data.  The image shape is (32, 32, 3)\n",
    "    : return: Numpy array of normalize data\n",
    "    \"\"\"\n",
    "    # TODO: Implement Function\n",
    "    # Feature scaling\n",
    "    return (x) / (x.max())\n",
    "\n",
    "\"\"\"\n",
    "DON'T MODIFY ANYTHING IN THIS CELL THAT IS BELOW THIS LINE\n",
    "\"\"\"\n",
    "tests.test_normalize(normalize)"
   ]
  },
  {
   "cell_type": "markdown",
   "metadata": {},
   "source": [
    "### One-hot encode\n",
    "Just like the previous code cell, you'll be implementing a function for preprocessing.  This time, you'll implement the `one_hot_encode` function. The input, `x`, are a list of labels.  Implement the function to return the list of labels as One-Hot encoded Numpy array.  The possible values for labels are 0 to 9. The one-hot encoding function should return the same encoding for each value between each call to `one_hot_encode`.  Make sure to save the map of encodings outside the function.\n",
    "\n",
    "Hint: Don't reinvent the wheel."
   ]
  },
  {
   "cell_type": "code",
   "execution_count": 4,
   "metadata": {},
   "outputs": [
    {
     "name": "stdout",
     "output_type": "stream",
     "text": [
      "Tests Passed\n"
     ]
    }
   ],
   "source": [
    "def one_hot_encode(x):\n",
    "    \"\"\"\n",
    "    One hot encode a list of sample labels. Return a one-hot encoded vector for each label.\n",
    "    : x: List of sample Labels\n",
    "    : return: Numpy array of one-hot encoded labels\n",
    "    \"\"\"\n",
    "    # TODO: Implement Function\n",
    "    from sklearn.preprocessing import OneHotEncoder\n",
    "    enc = OneHotEncoder(n_values=10)\n",
    "    one_hot_encoded = enc.fit_transform(np.array(x).reshape(-1, 1)).toarray()\n",
    "    return one_hot_encoded\n",
    "\n",
    "\n",
    "\"\"\"\n",
    "DON'T MODIFY ANYTHING IN THIS CELL THAT IS BELOW THIS LINE\n",
    "\"\"\"\n",
    "tests.test_one_hot_encode(one_hot_encode)"
   ]
  },
  {
   "cell_type": "markdown",
   "metadata": {},
   "source": [
    "### Randomize Data\n",
    "As you saw from exploring the data above, the order of the samples are randomized.  It doesn't hurt to randomize it again, but you don't need to for this dataset."
   ]
  },
  {
   "cell_type": "markdown",
   "metadata": {},
   "source": [
    "## Preprocess all the data and save it\n",
    "Running the code cell below will preprocess all the CIFAR-10 data and save it to file. The code below also uses 10% of the training data for validation."
   ]
  },
  {
   "cell_type": "code",
   "execution_count": 5,
   "metadata": {},
   "outputs": [],
   "source": [
    "\"\"\"\n",
    "DON'T MODIFY ANYTHING IN THIS CELL\n",
    "\"\"\"\n",
    "# Preprocess Training, Validation, and Testing Data\n",
    "helper.preprocess_and_save_data(cifar10_dataset_folder_path, normalize, one_hot_encode)"
   ]
  },
  {
   "cell_type": "markdown",
   "metadata": {},
   "source": [
    "# Check Point\n",
    "This is your first checkpoint.  If you ever decide to come back to this notebook or have to restart the notebook, you can start from here.  The preprocessed data has been saved to disk."
   ]
  },
  {
   "cell_type": "code",
   "execution_count": 6,
   "metadata": {},
   "outputs": [],
   "source": [
    "\"\"\"\n",
    "DON'T MODIFY ANYTHING IN THIS CELL\n",
    "\"\"\"\n",
    "import pickle\n",
    "import problem_unittests as tests\n",
    "import helper\n",
    "\n",
    "# Load the Preprocessed Validation data\n",
    "valid_features, valid_labels = pickle.load(open('preprocess_validation.p', mode='rb'))"
   ]
  },
  {
   "cell_type": "markdown",
   "metadata": {},
   "source": [
    "## Build the network\n",
    "For the neural network, you'll build each layer into a function.  Most of the code you've seen has been outside of functions. To test your code more thoroughly, we require that you put each layer in a function.  This allows us to give you better feedback and test for simple mistakes using our unittests before you submit your project.\n",
    "\n",
    ">**Note:** If you're finding it hard to dedicate enough time for this course each week, we've provided a small shortcut to this part of the project. In the next couple of problems, you'll have the option to use classes from the [TensorFlow Layers](https://www.tensorflow.org/api_docs/python/tf/layers) or [TensorFlow Layers (contrib)](https://www.tensorflow.org/api_guides/python/contrib.layers) packages to build each layer, except the layers you build in the \"Convolutional and Max Pooling Layer\" section.  TF Layers is similar to Keras's and TFLearn's abstraction to layers, so it's easy to pickup.\n",
    "\n",
    ">However, if you would like to get the most out of this course, try to solve all the problems _without_ using anything from the TF Layers packages. You **can** still use classes from other packages that happen to have the same name as ones you find in TF Layers! For example, instead of using the TF Layers version of the `conv2d` class, [tf.layers.conv2d](https://www.tensorflow.org/api_docs/python/tf/layers/conv2d), you would want to use the TF Neural Network version of `conv2d`, [tf.nn.conv2d](https://www.tensorflow.org/api_docs/python/tf/nn/conv2d). \n",
    "\n",
    "Let's begin!\n",
    "\n",
    "### Input\n",
    "The neural network needs to read the image data, one-hot encoded labels, and dropout keep probability. Implement the following functions\n",
    "* Implement `neural_net_image_input`\n",
    " * Return a [TF Placeholder](https://www.tensorflow.org/api_docs/python/tf/placeholder)\n",
    " * Set the shape using `image_shape` with batch size set to `None`.\n",
    " * Name the TensorFlow placeholder \"x\" using the TensorFlow `name` parameter in the [TF Placeholder](https://www.tensorflow.org/api_docs/python/tf/placeholder).\n",
    "* Implement `neural_net_label_input`\n",
    " * Return a [TF Placeholder](https://www.tensorflow.org/api_docs/python/tf/placeholder)\n",
    " * Set the shape using `n_classes` with batch size set to `None`.\n",
    " * Name the TensorFlow placeholder \"y\" using the TensorFlow `name` parameter in the [TF Placeholder](https://www.tensorflow.org/api_docs/python/tf/placeholder).\n",
    "* Implement `neural_net_keep_prob_input`\n",
    " * Return a [TF Placeholder](https://www.tensorflow.org/api_docs/python/tf/placeholder) for dropout keep probability.\n",
    " * Name the TensorFlow placeholder \"keep_prob\" using the TensorFlow `name` parameter in the [TF Placeholder](https://www.tensorflow.org/api_docs/python/tf/placeholder).\n",
    "\n",
    "These names will be used at the end of the project to load your saved model.\n",
    "\n",
    "Note: `None` for shapes in TensorFlow allow for a dynamic size."
   ]
  },
  {
   "cell_type": "code",
   "execution_count": 7,
   "metadata": {},
   "outputs": [
    {
     "name": "stdout",
     "output_type": "stream",
     "text": [
      "Image Input Tests Passed.\n",
      "Label Input Tests Passed.\n",
      "Keep Prob Tests Passed.\n"
     ]
    }
   ],
   "source": [
    "import tensorflow as tf\n",
    "\n",
    "def neural_net_image_input(image_shape):\n",
    "    \"\"\"\n",
    "    Return a Tensor for a bach of image input\n",
    "    : image_shape: Shape of the images\n",
    "    : return: Tensor for image input.\n",
    "    \"\"\"\n",
    "    # TODO: Implement Function\n",
    "    return tf.placeholder(tf.float32, shape=[None, image_shape[0], image_shape[1], image_shape[2]], name='x')\n",
    "\n",
    "\n",
    "def neural_net_label_input(n_classes):\n",
    "    \"\"\"\n",
    "    Return a Tensor for a batch of label input\n",
    "    : n_classes: Number of classes\n",
    "    : return: Tensor for label input.\n",
    "    \"\"\"\n",
    "    # TODO: Implement Function\n",
    "    return tf.placeholder(tf.int32, shape=[None, n_classes], name='y')\n",
    "\n",
    "\n",
    "def neural_net_keep_prob_input():\n",
    "    \"\"\"\n",
    "    Return a Tensor for keep probability\n",
    "    : return: Tensor for keep probability.\n",
    "    \"\"\"\n",
    "    # TODO: Implement Function\n",
    "    return tf.placeholder(tf.float32, name='keep_prob')\n",
    "\n",
    "\n",
    "\"\"\"\n",
    "DON'T MODIFY ANYTHING IN THIS CELL THAT IS BELOW THIS LINE\n",
    "\"\"\"\n",
    "tf.reset_default_graph()\n",
    "tests.test_nn_image_inputs(neural_net_image_input)\n",
    "tests.test_nn_label_inputs(neural_net_label_input)\n",
    "tests.test_nn_keep_prob_inputs(neural_net_keep_prob_input)"
   ]
  },
  {
   "cell_type": "markdown",
   "metadata": {},
   "source": [
    "### Convolution and Max Pooling Layer\n",
    "Convolution layers have a lot of success with images. For this code cell, you should implement the function `conv2d_maxpool` to apply convolution then max pooling:\n",
    "* Create the weight and bias using `conv_ksize`, `conv_num_outputs` and the shape of `x_tensor`.\n",
    "* Apply a convolution to `x_tensor` using weight and `conv_strides`.\n",
    " * We recommend you use same padding, but you're welcome to use any padding.\n",
    "* Add bias\n",
    "* Add a nonlinear activation to the convolution.\n",
    "* Apply Max Pooling using `pool_ksize` and `pool_strides`.\n",
    " * We recommend you use same padding, but you're welcome to use any padding.\n",
    "\n",
    "**Note:** You **can't** use [TensorFlow Layers](https://www.tensorflow.org/api_docs/python/tf/layers) or [TensorFlow Layers (contrib)](https://www.tensorflow.org/api_guides/python/contrib.layers) for **this** layer, but you can still use TensorFlow's [Neural Network](https://www.tensorflow.org/api_docs/python/tf/nn) package. You may still use the shortcut option for all the **other** layers."
   ]
  },
  {
   "cell_type": "code",
   "execution_count": 8,
   "metadata": {
    "scrolled": false
   },
   "outputs": [
    {
     "name": "stdout",
     "output_type": "stream",
     "text": [
      "Tests Passed\n"
     ]
    }
   ],
   "source": [
    "def conv2d_maxpool(x_tensor, conv_num_outputs, conv_ksize, conv_strides, pool_ksize, pool_strides):\n",
    "    \"\"\"\n",
    "    Apply convolution then max pooling to x_tensor\n",
    "    :param x_tensor: TensorFlow Tensor\n",
    "    :param conv_num_outputs: Number of outputs for the convolutional layer\n",
    "    :param conv_ksize: kernal size 2-D Tuple for the convolutional layer\n",
    "    :param conv_strides: Stride 2-D Tuple for convolution\n",
    "    :param pool_ksize: kernal size 2-D Tuple for pool\n",
    "    :param pool_strides: Stride 2-D Tuple for pool\n",
    "    : return: A tensor that represents convolution and max pooling of x_tensor\n",
    "    \"\"\"\n",
    "    x_shape = x_tensor.get_shape().as_list()\n",
    "    weights = tf.Variable(tf.truncated_normal([conv_ksize[0], conv_ksize[1], x_shape[-1], conv_num_outputs],\n",
    "                                              stddev=0.05\n",
    "                                             )\n",
    "                         )\n",
    "    biases = tf.Variable(tf.zeros(conv_num_outputs))\n",
    "    \n",
    "    conv_stride = [1, conv_strides[0], conv_strides[1], 1]\n",
    "    conv = tf.nn.conv2d(x_tensor, weights, conv_stride, 'SAME') + biases\n",
    "    conv = tf.nn.relu(conv)\n",
    "    \n",
    "    filter_size = [1, pool_ksize[0], pool_ksize[1], 1]\n",
    "    filter_stride = [1, pool_strides[0], pool_strides[1], 1]\n",
    "    return tf.nn.max_pool(conv, filter_size, filter_stride, 'SAME')\n",
    "\n",
    "\n",
    "\"\"\"\n",
    "DON'T MODIFY ANYTHING IN THIS CELL THAT IS BELOW THIS LINE\n",
    "\"\"\"\n",
    "tests.test_con_pool(conv2d_maxpool)\n",
    "# x_shape = [None, 32, 32, 5]\n",
    "# maxpool shape = (?, 4, 4, 10)"
   ]
  },
  {
   "cell_type": "markdown",
   "metadata": {},
   "source": [
    "### Flatten Layer\n",
    "Implement the `flatten` function to change the dimension of `x_tensor` from a 4-D tensor to a 2-D tensor.  The output should be the shape (*Batch Size*, *Flattened Image Size*). Shortcut option: you can use classes from the [TensorFlow Layers](https://www.tensorflow.org/api_docs/python/tf/layers) or [TensorFlow Layers (contrib)](https://www.tensorflow.org/api_guides/python/contrib.layers) packages for this layer. For more of a challenge, only use other TensorFlow packages."
   ]
  },
  {
   "cell_type": "code",
   "execution_count": 9,
   "metadata": {},
   "outputs": [
    {
     "name": "stdout",
     "output_type": "stream",
     "text": [
      "Tests Passed\n"
     ]
    }
   ],
   "source": [
    "def flatten(x_tensor):\n",
    "    \"\"\"\n",
    "    Flatten x_tensor to (Batch Size, Flattened Image Size)\n",
    "    : x_tensor: A tensor of size (Batch Size, ...), where ... are the image dimensions.\n",
    "    : return: A tensor of size (Batch Size, Flattened Image Size).\n",
    "    \"\"\"\n",
    "    # TODO: Implement Function\n",
    "    x_shape = x_tensor.get_shape().as_list()\n",
    "    return tf.reshape(tensor=x_tensor, shape=[-1, np.prod(x_shape[1:])]) # -1 pour none\n",
    "\n",
    "\n",
    "\"\"\"\n",
    "DON'T MODIFY ANYTHING IN THIS CELL THAT IS BELOW THIS LINE\n",
    "\"\"\"\n",
    "tests.test_flatten(flatten)"
   ]
  },
  {
   "cell_type": "markdown",
   "metadata": {},
   "source": [
    "### Fully-Connected Layer\n",
    "Implement the `fully_conn` function to apply a fully connected layer to `x_tensor` with the shape (*Batch Size*, *num_outputs*). Shortcut option: you can use classes from the [TensorFlow Layers](https://www.tensorflow.org/api_docs/python/tf/layers) or [TensorFlow Layers (contrib)](https://www.tensorflow.org/api_guides/python/contrib.layers) packages for this layer. For more of a challenge, only use other TensorFlow packages."
   ]
  },
  {
   "cell_type": "code",
   "execution_count": 10,
   "metadata": {},
   "outputs": [
    {
     "name": "stdout",
     "output_type": "stream",
     "text": [
      "Tests Passed\n"
     ]
    }
   ],
   "source": [
    "def fully_conn(x_tensor, num_outputs):\n",
    "    \"\"\"\n",
    "    Apply a fully connected layer to x_tensor using weight and bias\n",
    "    : x_tensor: A 2-D tensor where the first dimension is batch size.\n",
    "    : num_outputs: The number of output that the new tensor should be.\n",
    "    : return: A 2-D tensor where the second dimension is num_outputs.\n",
    "    \"\"\"\n",
    "    # TODO: Implement Function\n",
    "    x_shape = x_tensor.get_shape().as_list()\n",
    "    features_count = np.prod(x_shape[1:])\n",
    "    weights = tf.Variable(tf.truncated_normal([features_count, num_outputs],\n",
    "                                              stddev=0.05))\n",
    "    bias = tf.Variable(tf.zeros([num_outputs]))\n",
    "    logits = tf.matmul(x_tensor, weights) + bias\n",
    "    logits = tf.nn.relu(logits)\n",
    "    return logits\n",
    "#     return tf.contrib.layers.fully_connected(x_tensor, num_outputs)\n",
    "\n",
    "\n",
    "\"\"\"\n",
    "DON'T MODIFY ANYTHING IN THIS CELL THAT IS BELOW THIS LINE\n",
    "\"\"\"\n",
    "tests.test_fully_conn(fully_conn)"
   ]
  },
  {
   "cell_type": "markdown",
   "metadata": {},
   "source": [
    "### Output Layer\n",
    "Implement the `output` function to apply a fully connected layer to `x_tensor` with the shape (*Batch Size*, *num_outputs*). Shortcut option: you can use classes from the [TensorFlow Layers](https://www.tensorflow.org/api_docs/python/tf/layers) or [TensorFlow Layers (contrib)](https://www.tensorflow.org/api_guides/python/contrib.layers) packages for this layer. For more of a challenge, only use other TensorFlow packages.\n",
    "\n",
    "**Note:** Activation, softmax, or cross entropy should **not** be applied to this."
   ]
  },
  {
   "cell_type": "code",
   "execution_count": 11,
   "metadata": {},
   "outputs": [
    {
     "name": "stdout",
     "output_type": "stream",
     "text": [
      "Tests Passed\n"
     ]
    }
   ],
   "source": [
    "def output(x_tensor, num_outputs):\n",
    "    \"\"\"\n",
    "    Apply a output layer to x_tensor using weight and bias\n",
    "    : x_tensor: A 2-D tensor where the first dimension is batch size.\n",
    "    : num_outputs: The number of output that the new tensor should be.\n",
    "    : return: A 2-D tensor where the second dimension is num_outputs.\n",
    "    \"\"\"\n",
    "    # TODO: Implement Function\n",
    "    x_shape = x_tensor.get_shape().as_list()\n",
    "    features_count = np.prod(x_shape[1:])\n",
    "    weights = tf.Variable(tf.truncated_normal([features_count, num_outputs], stddev=0.1))\n",
    "    bias = tf.Variable(tf.zeros([num_outputs]))\n",
    "    output =  tf.nn.bias_add(tf.matmul(x_tensor, weights), bias)\n",
    "    return output\n",
    "\n",
    "\n",
    "\"\"\"\n",
    "DON'T MODIFY ANYTHING IN THIS CELL THAT IS BELOW THIS LINE\n",
    "\"\"\"\n",
    "tests.test_output(output)"
   ]
  },
  {
   "cell_type": "markdown",
   "metadata": {},
   "source": [
    "### Create Convolutional Model\n",
    "Implement the function `conv_net` to create a convolutional neural network model. The function takes in a batch of images, `x`, and outputs logits.  Use the layers you created above to create this model:\n",
    "\n",
    "* Apply 1, 2, or 3 Convolution and Max Pool layers\n",
    "* Apply a Flatten Layer\n",
    "* Apply 1, 2, or 3 Fully Connected Layers\n",
    "* Apply an Output Layer\n",
    "* Return the output\n",
    "* Apply [TensorFlow's Dropout](https://www.tensorflow.org/api_docs/python/tf/nn/dropout) to one or more layers in the model using `keep_prob`. "
   ]
  },
  {
   "cell_type": "code",
   "execution_count": 12,
   "metadata": {},
   "outputs": [
    {
     "name": "stdout",
     "output_type": "stream",
     "text": [
      "Neural Network Built!\n"
     ]
    }
   ],
   "source": [
    "def conv_net(x, keep_prob):\n",
    "    \"\"\"\n",
    "    Create a convolutional neural network model\n",
    "    : x: Placeholder tensor that holds image data.\n",
    "    : keep_prob: Placeholder tensor that hold dropout keep probability.\n",
    "    : return: Tensor that represents logits\n",
    "    \"\"\"\n",
    "    # TODO: Apply 1, 2, or 3 Convolution and Max Pool layers\n",
    "    #    Play around with different number of outputs, kernel size and stride\n",
    "    # Function Definition from Above:\n",
    "    #    conv2d_maxpool(x_tensor, conv_num_outputs, conv_ksize, conv_strides, pool_ksize, pool_strides)\n",
    "    c_filter_size = (4,4)\n",
    "    c_stride = (1, 1)\n",
    "    p_filter_size = (2,2)\n",
    "    p_stride = (2,2)\n",
    "    conv = conv2d_maxpool(x, conv_num_outputs=32, conv_ksize=c_filter_size,  \n",
    "                          conv_strides=c_stride, pool_ksize=p_filter_size, pool_strides=p_stride)\n",
    "    conv = tf.nn.dropout(conv, keep_prob)\n",
    "    conv = conv2d_maxpool(conv, 64, c_filter_size, c_stride, \n",
    "                          p_filter_size, p_stride)\n",
    "    conv = tf.nn.dropout(conv, keep_prob)\n",
    "    conv = conv2d_maxpool(conv, 64, c_filter_size, c_stride, \n",
    "                          p_filter_size, p_stride)\n",
    "    conv = tf.nn.dropout(conv, keep_prob)\n",
    "    \n",
    "    # TODO: Apply a Flatten Layer\n",
    "    # Function Definition from Above:\n",
    "    #     flatten(x_tensor)\n",
    "    flat = flatten(conv)\n",
    "\n",
    "    # TODO: Apply 1, 2, or 3 Fully Connected Layers\n",
    "    #    Play around with different number of outputs\n",
    "    # Function Definition from Above:\n",
    "    #   fully_conn(x_tensor, num_outputs)\n",
    "    fully_con = fully_conn(flat, 512)\n",
    "    fully_con = tf.nn.dropout(fully_con, keep_prob)\n",
    "    fully_con = fully_conn(fully_con, 256)\n",
    "    fully_con = tf.nn.dropout(fully_con, keep_prob)\n",
    "    fully_con = fully_conn(fully_con, 128)\n",
    "    fully_con = tf.nn.dropout(fully_con, keep_prob)\n",
    "    \n",
    "    # TODO: Apply an Output Layer\n",
    "    #    Set this to the number of classes\n",
    "    # Function Definition from Above:\n",
    "    #   output(x_tensor, num_outputs)\n",
    "    # return output\n",
    "    return output(fully_con, 10)\n",
    "\n",
    "\n",
    "\"\"\"\n",
    "DON'T MODIFY ANYTHING IN THIS CELL THAT IS BELOW THIS LINE\n",
    "\"\"\"\n",
    "\n",
    "##############################\n",
    "## Build the Neural Network ##\n",
    "##############################\n",
    "\n",
    "# Remove previous weights, bias, inputs, etc..\n",
    "tf.reset_default_graph()\n",
    "\n",
    "# Inputs\n",
    "x = neural_net_image_input((32, 32, 3))\n",
    "y = neural_net_label_input(10)\n",
    "keep_prob = neural_net_keep_prob_input()\n",
    "\n",
    "# Model\n",
    "logits = conv_net(x, keep_prob)\n",
    "\n",
    "# Name logits Tensor, so that is can be loaded from disk after training\n",
    "logits = tf.identity(logits, name='logits')\n",
    "\n",
    "# Loss and Optimizer\n",
    "cost = tf.reduce_mean(tf.nn.softmax_cross_entropy_with_logits(logits=logits, labels=y))\n",
    "optimizer = tf.train.AdamOptimizer().minimize(cost)\n",
    "\n",
    "# Accuracy\n",
    "correct_pred = tf.equal(tf.argmax(logits, 1), tf.argmax(y, 1))\n",
    "accuracy = tf.reduce_mean(tf.cast(correct_pred, tf.float32), name='accuracy')\n",
    "\n",
    "tests.test_conv_net(conv_net)"
   ]
  },
  {
   "cell_type": "markdown",
   "metadata": {},
   "source": [
    "## Train the Neural Network\n",
    "### Single Optimization\n",
    "Implement the function `train_neural_network` to do a single optimization.  The optimization should use `optimizer` to optimize in `session` with a `feed_dict` of the following:\n",
    "* `x` for image input\n",
    "* `y` for labels\n",
    "* `keep_prob` for keep probability for dropout\n",
    "\n",
    "This function will be called for each batch, so `tf.global_variables_initializer()` has already been called.\n",
    "\n",
    "Note: Nothing needs to be returned. This function is only optimizing the neural network."
   ]
  },
  {
   "cell_type": "code",
   "execution_count": 13,
   "metadata": {},
   "outputs": [
    {
     "name": "stdout",
     "output_type": "stream",
     "text": [
      "Tests Passed\n"
     ]
    }
   ],
   "source": [
    "def train_neural_network(session, optimizer, keep_probability, feature_batch, label_batch):\n",
    "    \"\"\"\n",
    "    Optimize the session on a batch of images and labels\n",
    "    : session: Current TensorFlow session\n",
    "    : optimizer: TensorFlow optimizer function\n",
    "    : keep_probability: keep probability\n",
    "    : feature_batch: Batch of Numpy image data\n",
    "    : label_batch: Batch of Numpy label data\n",
    "    \"\"\"\n",
    "    # TODO: Implement Function\n",
    "    session.run(optimizer, feed_dict={\n",
    "        x: feature_batch,\n",
    "        y: label_batch,\n",
    "        keep_prob: keep_probability})\n",
    "\n",
    "\n",
    "\"\"\"\n",
    "DON'T MODIFY ANYTHING IN THIS CELL THAT IS BELOW THIS LINE\n",
    "\"\"\"\n",
    "tests.test_train_nn(train_neural_network)"
   ]
  },
  {
   "cell_type": "markdown",
   "metadata": {},
   "source": [
    "### Show Stats\n",
    "Implement the function `print_stats` to print loss and validation accuracy.  Use the global variables `valid_features` and `valid_labels` to calculate validation accuracy.  Use a keep probability of `1.0` to calculate the loss and validation accuracy."
   ]
  },
  {
   "cell_type": "code",
   "execution_count": 14,
   "metadata": {},
   "outputs": [],
   "source": [
    "def print_stats(session, feature_batch, label_batch, cost, accuracy):\n",
    "    \"\"\"\n",
    "    Print information about loss and validation accuracy\n",
    "    : session: Current TensorFlow session\n",
    "    : feature_batch: Batch of Numpy image data\n",
    "    : label_batch: Batch of Numpy label data\n",
    "    : cost: TensorFlow cost function\n",
    "    : accuracy: TensorFlow accuracy function\n",
    "    \"\"\"\n",
    "    # TODO: Implement Function\n",
    "    loss = session.run(cost, feed_dict={\n",
    "                x: feature_batch,\n",
    "                y: label_batch,\n",
    "                keep_prob: 1.})\n",
    "    valid_acc = session.run(accuracy, feed_dict={\n",
    "        x: valid_features,\n",
    "        y: valid_labels,\n",
    "        keep_prob: 1.})\n",
    "    print('Loss : {:.5f}, Validation accuracy : {:6f}'.format(loss, valid_acc))"
   ]
  },
  {
   "cell_type": "markdown",
   "metadata": {},
   "source": [
    "### Hyperparameters\n",
    "Tune the following parameters:\n",
    "* Set `epochs` to the number of iterations until the network stops learning or start overfitting\n",
    "* Set `batch_size` to the highest number that your machine has memory for.  Most people set them to common sizes of memory:\n",
    " * 64\n",
    " * 128\n",
    " * 256\n",
    " * ...\n",
    "* Set `keep_probability` to the probability of keeping a node using dropout"
   ]
  },
  {
   "cell_type": "code",
   "execution_count": 15,
   "metadata": {},
   "outputs": [],
   "source": [
    "# TODO: Tune Parameters\n",
    "epochs = 25\n",
    "batch_size = 512\n",
    "keep_probability = 0.75"
   ]
  },
  {
   "cell_type": "markdown",
   "metadata": {},
   "source": [
    "### Train on a Single CIFAR-10 Batch\n",
    "Instead of training the neural network on all the CIFAR-10 batches of data, let's use a single batch. This should save time while you iterate on the model to get a better accuracy.  Once the final validation accuracy is 50% or greater, run the model on all the data in the next section."
   ]
  },
  {
   "cell_type": "code",
   "execution_count": 41,
   "metadata": {
    "scrolled": false
   },
   "outputs": [
    {
     "name": "stdout",
     "output_type": "stream",
     "text": [
      "Checking the Training on a Single Batch...\n",
      "Epoch  1, CIFAR-10 Batch 1:  Loss : 2.19896197, Validation accuracy : 0.229200\n",
      "Epoch  2, CIFAR-10 Batch 1:  Loss : 2.04122829, Validation accuracy : 0.274200\n",
      "Epoch  3, CIFAR-10 Batch 1:  Loss : 1.91139567, Validation accuracy : 0.349200\n",
      "Epoch  4, CIFAR-10 Batch 1:  Loss : 1.72722316, Validation accuracy : 0.381000\n",
      "Epoch  5, CIFAR-10 Batch 1:  Loss : 1.62278819, Validation accuracy : 0.412200\n",
      "Epoch  6, CIFAR-10 Batch 1:  Loss : 1.47061110, Validation accuracy : 0.444200\n",
      "Epoch  7, CIFAR-10 Batch 1:  Loss : 1.41654336, Validation accuracy : 0.446400\n",
      "Epoch  8, CIFAR-10 Batch 1:  Loss : 1.27086675, Validation accuracy : 0.493200\n",
      "Epoch  9, CIFAR-10 Batch 1:  Loss : 1.12328088, Validation accuracy : 0.513600\n",
      "Epoch 10, CIFAR-10 Batch 1:  Loss : 1.03819692, Validation accuracy : 0.517200\n",
      "Epoch 11, CIFAR-10 Batch 1:  Loss : 0.96422827, Validation accuracy : 0.533200\n",
      "Epoch 12, CIFAR-10 Batch 1:  Loss : 0.87966633, Validation accuracy : 0.530400\n",
      "Epoch 13, CIFAR-10 Batch 1:  Loss : 0.76993793, Validation accuracy : 0.550600\n",
      "Epoch 14, CIFAR-10 Batch 1:  Loss : 0.72126639, Validation accuracy : 0.565800\n",
      "Epoch 15, CIFAR-10 Batch 1:  Loss : 0.65500176, Validation accuracy : 0.552000\n",
      "Epoch 16, CIFAR-10 Batch 1:  Loss : 0.60263157, Validation accuracy : 0.571200\n",
      "Epoch 17, CIFAR-10 Batch 1:  Loss : 0.59465468, Validation accuracy : 0.569800\n",
      "Epoch 18, CIFAR-10 Batch 1:  Loss : 0.51542127, Validation accuracy : 0.587400\n",
      "Epoch 19, CIFAR-10 Batch 1:  Loss : 0.41459975, Validation accuracy : 0.607400\n",
      "Epoch 20, CIFAR-10 Batch 1:  Loss : 0.37059587, Validation accuracy : 0.612800\n",
      "Epoch 21, CIFAR-10 Batch 1:  Loss : 0.35202718, Validation accuracy : 0.598200\n",
      "Epoch 22, CIFAR-10 Batch 1:  Loss : 0.31336105, Validation accuracy : 0.612000\n",
      "Epoch 23, CIFAR-10 Batch 1:  Loss : 0.24660704, Validation accuracy : 0.624200\n",
      "Epoch 24, CIFAR-10 Batch 1:  Loss : 0.29901129, Validation accuracy : 0.627800\n",
      "Epoch 25, CIFAR-10 Batch 1:  Loss : 0.26015645, Validation accuracy : 0.623200\n"
     ]
    }
   ],
   "source": [
    "\"\"\"\n",
    "DON'T MODIFY ANYTHING IN THIS CELL\n",
    "\"\"\"\n",
    "print('Checking the Training on a Single Batch...')\n",
    "with tf.Session() as sess:\n",
    "    # Initializing the variables\n",
    "    sess.run(tf.global_variables_initializer())\n",
    "    \n",
    "    # Training cycle\n",
    "    for epoch in range(epochs):\n",
    "        batch_i = 1\n",
    "        for batch_features, batch_labels in helper.load_preprocess_training_batch(batch_i, batch_size):\n",
    "            train_neural_network(sess, optimizer, keep_probability, batch_features, batch_labels)\n",
    "        print('Epoch {:>2}, CIFAR-10 Batch {}:  '.format(epoch + 1, batch_i), end='')\n",
    "        print_stats(sess, batch_features, batch_labels, cost, accuracy)"
   ]
  },
  {
   "cell_type": "markdown",
   "metadata": {},
   "source": [
    "### Fully Train the Model\n",
    "Now that you got a good accuracy with a single CIFAR-10 batch, try it with all five batches."
   ]
  },
  {
   "cell_type": "code",
   "execution_count": 16,
   "metadata": {},
   "outputs": [],
   "source": [
    "batch_size = 512"
   ]
  },
  {
   "cell_type": "code",
   "execution_count": 17,
   "metadata": {},
   "outputs": [
    {
     "name": "stdout",
     "output_type": "stream",
     "text": [
      "Training...\n",
      "Epoch  1, CIFAR-10 Batch 1:  Loss : 2.25177, Validation accuracy : 0.151800\n",
      "Epoch  1, CIFAR-10 Batch 2:  Loss : 1.99599, Validation accuracy : 0.267400\n",
      "Epoch  1, CIFAR-10 Batch 3:  Loss : 1.87317, Validation accuracy : 0.280200\n",
      "Epoch  1, CIFAR-10 Batch 4:  Loss : 1.70746, Validation accuracy : 0.354800\n",
      "Epoch  1, CIFAR-10 Batch 5:  Loss : 1.70875, Validation accuracy : 0.369800\n",
      "Epoch  2, CIFAR-10 Batch 1:  Loss : 1.70089, Validation accuracy : 0.399400\n",
      "Epoch  2, CIFAR-10 Batch 2:  Loss : 1.58804, Validation accuracy : 0.429000\n",
      "Epoch  2, CIFAR-10 Batch 3:  Loss : 1.41287, Validation accuracy : 0.437400\n",
      "Epoch  2, CIFAR-10 Batch 4:  Loss : 1.45062, Validation accuracy : 0.471400\n",
      "Epoch  2, CIFAR-10 Batch 5:  Loss : 1.44470, Validation accuracy : 0.445400\n",
      "Epoch  3, CIFAR-10 Batch 1:  Loss : 1.46056, Validation accuracy : 0.496400\n",
      "Epoch  3, CIFAR-10 Batch 2:  Loss : 1.41257, Validation accuracy : 0.491400\n",
      "Epoch  3, CIFAR-10 Batch 3:  Loss : 1.24823, Validation accuracy : 0.514400\n",
      "Epoch  3, CIFAR-10 Batch 4:  Loss : 1.25120, Validation accuracy : 0.519600\n",
      "Epoch  3, CIFAR-10 Batch 5:  Loss : 1.29712, Validation accuracy : 0.516200\n",
      "Epoch  4, CIFAR-10 Batch 1:  Loss : 1.35204, Validation accuracy : 0.530000\n",
      "Epoch  4, CIFAR-10 Batch 2:  Loss : 1.31259, Validation accuracy : 0.522400\n",
      "Epoch  4, CIFAR-10 Batch 3:  Loss : 1.10928, Validation accuracy : 0.552400\n",
      "Epoch  4, CIFAR-10 Batch 4:  Loss : 1.07277, Validation accuracy : 0.555200\n",
      "Epoch  4, CIFAR-10 Batch 5:  Loss : 1.15237, Validation accuracy : 0.560400\n",
      "Epoch  5, CIFAR-10 Batch 1:  Loss : 1.24763, Validation accuracy : 0.566800\n",
      "Epoch  5, CIFAR-10 Batch 2:  Loss : 1.14887, Validation accuracy : 0.583000\n",
      "Epoch  5, CIFAR-10 Batch 3:  Loss : 1.03614, Validation accuracy : 0.589800\n",
      "Epoch  5, CIFAR-10 Batch 4:  Loss : 0.94829, Validation accuracy : 0.602000\n",
      "Epoch  5, CIFAR-10 Batch 5:  Loss : 1.01339, Validation accuracy : 0.600600\n",
      "Epoch  6, CIFAR-10 Batch 1:  Loss : 1.11421, Validation accuracy : 0.605000\n",
      "Epoch  6, CIFAR-10 Batch 2:  Loss : 1.06377, Validation accuracy : 0.603000\n",
      "Epoch  6, CIFAR-10 Batch 3:  Loss : 0.92961, Validation accuracy : 0.610800\n",
      "Epoch  6, CIFAR-10 Batch 4:  Loss : 0.87761, Validation accuracy : 0.627200\n",
      "Epoch  6, CIFAR-10 Batch 5:  Loss : 0.92709, Validation accuracy : 0.628000\n",
      "Epoch  7, CIFAR-10 Batch 1:  Loss : 0.98930, Validation accuracy : 0.630200\n",
      "Epoch  7, CIFAR-10 Batch 2:  Loss : 0.97085, Validation accuracy : 0.627400\n",
      "Epoch  7, CIFAR-10 Batch 3:  Loss : 0.84314, Validation accuracy : 0.632400\n",
      "Epoch  7, CIFAR-10 Batch 4:  Loss : 0.78644, Validation accuracy : 0.650000\n",
      "Epoch  7, CIFAR-10 Batch 5:  Loss : 0.85005, Validation accuracy : 0.660200\n",
      "Epoch  8, CIFAR-10 Batch 1:  Loss : 0.92033, Validation accuracy : 0.647800\n",
      "Epoch  8, CIFAR-10 Batch 2:  Loss : 0.93159, Validation accuracy : 0.658400\n",
      "Epoch  8, CIFAR-10 Batch 3:  Loss : 0.76500, Validation accuracy : 0.672200\n",
      "Epoch  8, CIFAR-10 Batch 4:  Loss : 0.75336, Validation accuracy : 0.674000\n",
      "Epoch  8, CIFAR-10 Batch 5:  Loss : 0.77259, Validation accuracy : 0.670800\n",
      "Epoch  9, CIFAR-10 Batch 1:  Loss : 0.84976, Validation accuracy : 0.666000\n",
      "Epoch  9, CIFAR-10 Batch 2:  Loss : 0.83168, Validation accuracy : 0.688400\n",
      "Epoch  9, CIFAR-10 Batch 3:  Loss : 0.72198, Validation accuracy : 0.690200\n",
      "Epoch  9, CIFAR-10 Batch 4:  Loss : 0.72273, Validation accuracy : 0.669600\n",
      "Epoch  9, CIFAR-10 Batch 5:  Loss : 0.74975, Validation accuracy : 0.674400\n",
      "Epoch 10, CIFAR-10 Batch 1:  Loss : 0.78947, Validation accuracy : 0.689400\n",
      "Epoch 10, CIFAR-10 Batch 2:  Loss : 0.78862, Validation accuracy : 0.696200\n",
      "Epoch 10, CIFAR-10 Batch 3:  Loss : 0.65121, Validation accuracy : 0.700600\n",
      "Epoch 10, CIFAR-10 Batch 4:  Loss : 0.61988, Validation accuracy : 0.692800\n",
      "Epoch 10, CIFAR-10 Batch 5:  Loss : 0.66493, Validation accuracy : 0.704200\n",
      "Epoch 11, CIFAR-10 Batch 1:  Loss : 0.77703, Validation accuracy : 0.699000\n",
      "Epoch 11, CIFAR-10 Batch 2:  Loss : 0.71279, Validation accuracy : 0.713800\n",
      "Epoch 11, CIFAR-10 Batch 3:  Loss : 0.59749, Validation accuracy : 0.718400\n",
      "Epoch 11, CIFAR-10 Batch 4:  Loss : 0.61197, Validation accuracy : 0.711200\n",
      "Epoch 11, CIFAR-10 Batch 5:  Loss : 0.62846, Validation accuracy : 0.710000\n",
      "Epoch 12, CIFAR-10 Batch 1:  Loss : 0.66567, Validation accuracy : 0.722800\n",
      "Epoch 12, CIFAR-10 Batch 2:  Loss : 0.69306, Validation accuracy : 0.717200\n",
      "Epoch 12, CIFAR-10 Batch 3:  Loss : 0.58573, Validation accuracy : 0.720200\n",
      "Epoch 12, CIFAR-10 Batch 4:  Loss : 0.55219, Validation accuracy : 0.719400\n",
      "Epoch 12, CIFAR-10 Batch 5:  Loss : 0.58854, Validation accuracy : 0.711000\n",
      "Epoch 13, CIFAR-10 Batch 1:  Loss : 0.66527, Validation accuracy : 0.721000\n",
      "Epoch 13, CIFAR-10 Batch 2:  Loss : 0.59578, Validation accuracy : 0.728400\n",
      "Epoch 13, CIFAR-10 Batch 3:  Loss : 0.52347, Validation accuracy : 0.733200\n",
      "Epoch 13, CIFAR-10 Batch 4:  Loss : 0.53629, Validation accuracy : 0.713800\n",
      "Epoch 13, CIFAR-10 Batch 5:  Loss : 0.56870, Validation accuracy : 0.711400\n",
      "Epoch 14, CIFAR-10 Batch 1:  Loss : 0.57955, Validation accuracy : 0.733200\n",
      "Epoch 14, CIFAR-10 Batch 2:  Loss : 0.59910, Validation accuracy : 0.718200\n",
      "Epoch 14, CIFAR-10 Batch 3:  Loss : 0.49745, Validation accuracy : 0.732600\n",
      "Epoch 14, CIFAR-10 Batch 4:  Loss : 0.53697, Validation accuracy : 0.720600\n",
      "Epoch 14, CIFAR-10 Batch 5:  Loss : 0.51936, Validation accuracy : 0.717400\n",
      "Epoch 15, CIFAR-10 Batch 1:  Loss : 0.53708, Validation accuracy : 0.729400\n",
      "Epoch 15, CIFAR-10 Batch 2:  Loss : 0.56971, Validation accuracy : 0.716200\n",
      "Epoch 15, CIFAR-10 Batch 3:  Loss : 0.50357, Validation accuracy : 0.730600\n",
      "Epoch 15, CIFAR-10 Batch 4:  Loss : 0.48939, Validation accuracy : 0.733600\n",
      "Epoch 15, CIFAR-10 Batch 5:  Loss : 0.48214, Validation accuracy : 0.732600\n",
      "Epoch 16, CIFAR-10 Batch 1:  Loss : 0.52169, Validation accuracy : 0.743000\n",
      "Epoch 16, CIFAR-10 Batch 2:  Loss : 0.56616, Validation accuracy : 0.713200\n",
      "Epoch 16, CIFAR-10 Batch 3:  Loss : 0.43790, Validation accuracy : 0.741600\n",
      "Epoch 16, CIFAR-10 Batch 4:  Loss : 0.50249, Validation accuracy : 0.730800\n",
      "Epoch 16, CIFAR-10 Batch 5:  Loss : 0.44556, Validation accuracy : 0.740600\n",
      "Epoch 17, CIFAR-10 Batch 1:  Loss : 0.48576, Validation accuracy : 0.739200\n",
      "Epoch 17, CIFAR-10 Batch 2:  Loss : 0.49478, Validation accuracy : 0.738400\n",
      "Epoch 17, CIFAR-10 Batch 3:  Loss : 0.43330, Validation accuracy : 0.741000\n",
      "Epoch 17, CIFAR-10 Batch 4:  Loss : 0.44250, Validation accuracy : 0.742200\n",
      "Epoch 17, CIFAR-10 Batch 5:  Loss : 0.42110, Validation accuracy : 0.739000\n",
      "Epoch 18, CIFAR-10 Batch 1:  Loss : 0.43126, Validation accuracy : 0.754000\n",
      "Epoch 18, CIFAR-10 Batch 2:  Loss : 0.46513, Validation accuracy : 0.734600\n",
      "Epoch 18, CIFAR-10 Batch 3:  Loss : 0.36841, Validation accuracy : 0.753200\n",
      "Epoch 18, CIFAR-10 Batch 4:  Loss : 0.39211, Validation accuracy : 0.750200\n",
      "Epoch 18, CIFAR-10 Batch 5:  Loss : 0.37599, Validation accuracy : 0.748200\n",
      "Epoch 19, CIFAR-10 Batch 1:  Loss : 0.39363, Validation accuracy : 0.750600\n",
      "Epoch 19, CIFAR-10 Batch 2:  Loss : 0.45249, Validation accuracy : 0.739600\n",
      "Epoch 19, CIFAR-10 Batch 3:  Loss : 0.36916, Validation accuracy : 0.751800\n",
      "Epoch 19, CIFAR-10 Batch 4:  Loss : 0.36868, Validation accuracy : 0.755600\n",
      "Epoch 19, CIFAR-10 Batch 5:  Loss : 0.37608, Validation accuracy : 0.739800\n",
      "Epoch 20, CIFAR-10 Batch 1:  Loss : 0.38296, Validation accuracy : 0.753000\n",
      "Epoch 20, CIFAR-10 Batch 2:  Loss : 0.41901, Validation accuracy : 0.744600\n",
      "Epoch 20, CIFAR-10 Batch 3:  Loss : 0.33230, Validation accuracy : 0.758200\n",
      "Epoch 20, CIFAR-10 Batch 4:  Loss : 0.35933, Validation accuracy : 0.758200\n",
      "Epoch 20, CIFAR-10 Batch 5:  Loss : 0.34752, Validation accuracy : 0.747200\n",
      "Epoch 21, CIFAR-10 Batch 1:  Loss : 0.36096, Validation accuracy : 0.763400\n",
      "Epoch 21, CIFAR-10 Batch 2:  Loss : 0.35202, Validation accuracy : 0.754000\n",
      "Epoch 21, CIFAR-10 Batch 3:  Loss : 0.30238, Validation accuracy : 0.762800\n",
      "Epoch 21, CIFAR-10 Batch 4:  Loss : 0.32145, Validation accuracy : 0.762600\n",
      "Epoch 21, CIFAR-10 Batch 5:  Loss : 0.31802, Validation accuracy : 0.753400\n",
      "Epoch 22, CIFAR-10 Batch 1:  Loss : 0.33765, Validation accuracy : 0.764600\n",
      "Epoch 22, CIFAR-10 Batch 2:  Loss : 0.34247, Validation accuracy : 0.756400\n",
      "Epoch 22, CIFAR-10 Batch 3:  Loss : 0.28724, Validation accuracy : 0.770400\n"
     ]
    },
    {
     "name": "stdout",
     "output_type": "stream",
     "text": [
      "Epoch 22, CIFAR-10 Batch 4:  Loss : 0.31441, Validation accuracy : 0.760400\n",
      "Epoch 22, CIFAR-10 Batch 5:  Loss : 0.29940, Validation accuracy : 0.750400\n",
      "Epoch 23, CIFAR-10 Batch 1:  Loss : 0.31069, Validation accuracy : 0.772400\n",
      "Epoch 23, CIFAR-10 Batch 2:  Loss : 0.30409, Validation accuracy : 0.772000\n",
      "Epoch 23, CIFAR-10 Batch 3:  Loss : 0.29920, Validation accuracy : 0.762600\n",
      "Epoch 23, CIFAR-10 Batch 4:  Loss : 0.30853, Validation accuracy : 0.757400\n",
      "Epoch 23, CIFAR-10 Batch 5:  Loss : 0.27355, Validation accuracy : 0.758800\n",
      "Epoch 24, CIFAR-10 Batch 1:  Loss : 0.32631, Validation accuracy : 0.759600\n",
      "Epoch 24, CIFAR-10 Batch 2:  Loss : 0.31283, Validation accuracy : 0.763600\n",
      "Epoch 24, CIFAR-10 Batch 3:  Loss : 0.26481, Validation accuracy : 0.764000\n",
      "Epoch 24, CIFAR-10 Batch 4:  Loss : 0.28090, Validation accuracy : 0.765400\n",
      "Epoch 24, CIFAR-10 Batch 5:  Loss : 0.26757, Validation accuracy : 0.759200\n",
      "Epoch 25, CIFAR-10 Batch 1:  Loss : 0.30165, Validation accuracy : 0.769800\n",
      "Epoch 25, CIFAR-10 Batch 2:  Loss : 0.27482, Validation accuracy : 0.775800\n",
      "Epoch 25, CIFAR-10 Batch 3:  Loss : 0.24195, Validation accuracy : 0.771800\n",
      "Epoch 25, CIFAR-10 Batch 4:  Loss : 0.27770, Validation accuracy : 0.766600\n",
      "Epoch 25, CIFAR-10 Batch 5:  Loss : 0.25568, Validation accuracy : 0.764800\n"
     ]
    }
   ],
   "source": [
    "\"\"\"\n",
    "DON'T MODIFY ANYTHING IN THIS CELL\n",
    "\"\"\"\n",
    "save_model_path = './image_classification'\n",
    "\n",
    "print('Training...')\n",
    "with tf.Session() as sess:\n",
    "    # Initializing the variables\n",
    "    sess.run(tf.global_variables_initializer())\n",
    "    \n",
    "    # Training cycle\n",
    "    for epoch in range(epochs):\n",
    "        # Loop over all batches\n",
    "        n_batches = 5\n",
    "        for batch_i in range(1, n_batches + 1):\n",
    "            for batch_features, batch_labels in helper.load_preprocess_training_batch(batch_i, batch_size):\n",
    "                train_neural_network(sess, optimizer, keep_probability, batch_features, batch_labels)\n",
    "            print('Epoch {:>2}, CIFAR-10 Batch {}:  '.format(epoch + 1, batch_i), end='')\n",
    "            print_stats(sess, batch_features, batch_labels, cost, accuracy)\n",
    "            \n",
    "    # Save Model\n",
    "    saver = tf.train.Saver()\n",
    "    save_path = saver.save(sess, save_model_path)"
   ]
  },
  {
   "cell_type": "markdown",
   "metadata": {},
   "source": [
    "# Checkpoint\n",
    "The model has been saved to disk.\n",
    "## Test Model\n",
    "Test your model against the test dataset.  This will be your final accuracy. You should have an accuracy greater than 50%. If you don't, keep tweaking the model architecture and parameters."
   ]
  },
  {
   "cell_type": "code",
   "execution_count": 18,
   "metadata": {},
   "outputs": [
    {
     "name": "stdout",
     "output_type": "stream",
     "text": [
      "INFO:tensorflow:Restoring parameters from ./image_classification\n",
      "Testing Accuracy: 0.7540728390216828\n",
      "\n"
     ]
    },
    {
     "data": {
      "image/png": "[encoded data removed]",
      "text/plain": [
       "<matplotlib.figure.Figure at 0x7f5fe63ef8d0>"
      ]
     },
     "metadata": {
      "image/png": {
       "height": 319,
       "width": 355
      }
     },
     "output_type": "display_data"
    }
   ],
   "source": [
    "\"\"\"\n",
    "DON'T MODIFY ANYTHING IN THIS CELL\n",
    "\"\"\"\n",
    "%matplotlib inline\n",
    "%config InlineBackend.figure_format = 'retina'\n",
    "\n",
    "import tensorflow as tf\n",
    "import pickle\n",
    "import helper\n",
    "import random\n",
    "\n",
    "# Set batch size if not already set\n",
    "try:\n",
    "    if batch_size:\n",
    "        pass\n",
    "except NameError:\n",
    "    batch_size = 64\n",
    "\n",
    "save_model_path = './image_classification'\n",
    "n_samples = 4\n",
    "top_n_predictions = 3\n",
    "\n",
    "def test_model():\n",
    "    \"\"\"\n",
    "    Test the saved model against the test dataset\n",
    "    \"\"\"\n",
    "\n",
    "    test_features, test_labels = pickle.load(open('preprocess_training.p', mode='rb'))\n",
    "    loaded_graph = tf.Graph()\n",
    "\n",
    "    with tf.Session(graph=loaded_graph) as sess:\n",
    "        # Load model\n",
    "        loader = tf.train.import_meta_graph(save_model_path + '.meta')\n",
    "        loader.restore(sess, save_model_path)\n",
    "\n",
    "        # Get Tensors from loaded model\n",
    "        loaded_x = loaded_graph.get_tensor_by_name('x:0')\n",
    "        loaded_y = loaded_graph.get_tensor_by_name('y:0')\n",
    "        loaded_keep_prob = loaded_graph.get_tensor_by_name('keep_prob:0')\n",
    "        loaded_logits = loaded_graph.get_tensor_by_name('logits:0')\n",
    "        loaded_acc = loaded_graph.get_tensor_by_name('accuracy:0')\n",
    "        \n",
    "        # Get accuracy in batches for memory limitations\n",
    "        test_batch_acc_total = 0\n",
    "        test_batch_count = 0\n",
    "        \n",
    "        for train_feature_batch, train_label_batch in helper.batch_features_labels(test_features, test_labels, batch_size):\n",
    "            test_batch_acc_total += sess.run(\n",
    "                loaded_acc,\n",
    "                feed_dict={loaded_x: train_feature_batch, loaded_y: train_label_batch, loaded_keep_prob: 1.0})\n",
    "            test_batch_count += 1\n",
    "\n",
    "        print('Testing Accuracy: {}\\n'.format(test_batch_acc_total/test_batch_count))\n",
    "\n",
    "        # Print Random Samples\n",
    "        random_test_features, random_test_labels = tuple(zip(*random.sample(list(zip(test_features, test_labels)), n_samples)))\n",
    "        random_test_predictions = sess.run(\n",
    "            tf.nn.top_k(tf.nn.softmax(loaded_logits), top_n_predictions),\n",
    "            feed_dict={loaded_x: random_test_features, loaded_y: random_test_labels, loaded_keep_prob: 1.0})\n",
    "        helper.display_image_predictions(random_test_features, random_test_labels, random_test_predictions)\n",
    "\n",
    "\n",
    "test_model()"
   ]
  },
  {
   "cell_type": "markdown",
   "metadata": {},
   "source": [
    "## Why 50-70% Accuracy?\n",
    "You might be wondering why you can't get an accuracy any higher. First things first, 50% isn't bad for a simple CNN.  Pure guessing would get you 10% accuracy. However, you might notice people are getting scores [well above 70%](http://rodrigob.github.io/are_we_there_yet/build/classification_datasets_results.html#43494641522d3130).  That's because we haven't taught you all there is to know about neural networks. We still need to cover a few more techniques.\n",
    "## Submitting This Project\n",
    "When submitting this project, make sure to run all the cells before saving the notebook.  Save the notebook file as \"dlnd_image_classification.ipynb\" and save it as a HTML file under \"File\" -> \"Download as\".  Include the \"helper.py\" and \"problem_unittests.py\" files in your submission."
   ]
  }
 ],
 "metadata": {
  "kernelspec": {
   "display_name": "Python 2",
   "language": "python",
   "name": "python2"
  },
  "language_info": {
   "codemirror_mode": {
    "name": "ipython",
    "version": 3
   },
   "file_extension": ".py",
   "mimetype": "text/x-python",
   "name": "python",
   "nbconvert_exporter": "python",
   "pygments_lexer": "ipython3",
   "version": "3.6.2"
  },
  "varInspector": {
   "cols": {
    "lenName": 16,
    "lenType": 16,
    "lenVar": 40
   },
   "kernels_config": {
    "python": {
     "delete_cmd_postfix": "",
     "delete_cmd_prefix": "del ",
     "library": "var_list.py",
     "varRefreshCmd": "print(var_dic_list())"
    },
    "r": {
     "delete_cmd_postfix": ") ",
     "delete_cmd_prefix": "rm(",
     "library": "var_list.r",
     "varRefreshCmd": "cat(var_dic_list()) "
    }
   },
   "types_to_exclude": [
    "module",
    "function",
    "builtin_function_or_method",
    "instance",
    "_Feature"
   ],
   "window_display": false
  }
 },
 "nbformat": 4,
 "nbformat_minor": 1
}
